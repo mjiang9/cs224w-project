{
  "nbformat": 4,
  "nbformat_minor": 0,
  "metadata": {
    "colab": {
      "name": "Copy of CS224W_Project.ipynb",
      "provenance": [],
      "collapsed_sections": [],
      "toc_visible": true,
      "include_colab_link": true
    },
    "kernelspec": {
      "display_name": "Python 3",
      "name": "python3"
    },
    "language_info": {
      "name": "python"
    }
  },
  "cells": [
    {
      "cell_type": "markdown",
      "metadata": {
        "id": "view-in-github",
        "colab_type": "text"
      },
      "source": [
        "<a href=\"https://colab.research.google.com/github/mjiang9/cs224w-project/blob/main/CS224W_Project.ipynb\" target=\"_parent\"><img src=\"https://colab.research.google.com/assets/colab-badge.svg\" alt=\"Open In Colab\"/></a>"
      ]
    },
    {
      "cell_type": "code",
      "metadata": {
        "colab": {
          "base_uri": "https://localhost:8080/"
        },
        "id": "VZnnFu1kSXlu",
        "outputId": "51ba6204-96d6-4aed-fcc7-ad02efb7e9c1"
      },
      "source": [
        "# Install required packages\n",
        "!pip install torch-scatter -f https://data.pyg.org/whl/torch-1.10.0+cu113.html\n",
        "!pip install torch-sparse -f https://data.pyg.org/whl/torch-1.10.0+cu113.html\n",
        "!pip install torch-geometric"
      ],
      "execution_count": null,
      "outputs": [
        {
          "output_type": "stream",
          "name": "stdout",
          "text": [
            "Looking in links: https://data.pyg.org/whl/torch-1.10.0+cu113.html\n",
            "Requirement already satisfied: torch-scatter in /usr/local/lib/python3.7/dist-packages (2.0.9)\n",
            "Looking in links: https://data.pyg.org/whl/torch-1.10.0+cu113.html\n",
            "Requirement already satisfied: torch-sparse in /usr/local/lib/python3.7/dist-packages (0.6.12)\n",
            "Requirement already satisfied: scipy in /usr/local/lib/python3.7/dist-packages (from torch-sparse) (1.4.1)\n",
            "Requirement already satisfied: numpy>=1.13.3 in /usr/local/lib/python3.7/dist-packages (from scipy->torch-sparse) (1.19.5)\n",
            "Requirement already satisfied: torch-geometric in /usr/local/lib/python3.7/dist-packages (2.0.2)\n",
            "Requirement already satisfied: networkx in /usr/local/lib/python3.7/dist-packages (from torch-geometric) (2.6.3)\n",
            "Requirement already satisfied: rdflib in /usr/local/lib/python3.7/dist-packages (from torch-geometric) (6.0.2)\n",
            "Requirement already satisfied: tqdm in /usr/local/lib/python3.7/dist-packages (from torch-geometric) (4.62.3)\n",
            "Requirement already satisfied: pandas in /usr/local/lib/python3.7/dist-packages (from torch-geometric) (1.1.5)\n",
            "Requirement already satisfied: requests in /usr/local/lib/python3.7/dist-packages (from torch-geometric) (2.23.0)\n",
            "Requirement already satisfied: yacs in /usr/local/lib/python3.7/dist-packages (from torch-geometric) (0.1.8)\n",
            "Requirement already satisfied: jinja2 in /usr/local/lib/python3.7/dist-packages (from torch-geometric) (2.11.3)\n",
            "Requirement already satisfied: pyparsing in /usr/local/lib/python3.7/dist-packages (from torch-geometric) (3.0.6)\n",
            "Requirement already satisfied: PyYAML in /usr/local/lib/python3.7/dist-packages (from torch-geometric) (3.13)\n",
            "Requirement already satisfied: scipy in /usr/local/lib/python3.7/dist-packages (from torch-geometric) (1.4.1)\n",
            "Requirement already satisfied: numpy in /usr/local/lib/python3.7/dist-packages (from torch-geometric) (1.19.5)\n",
            "Requirement already satisfied: scikit-learn in /usr/local/lib/python3.7/dist-packages (from torch-geometric) (1.0.1)\n",
            "Requirement already satisfied: googledrivedownloader in /usr/local/lib/python3.7/dist-packages (from torch-geometric) (0.4)\n",
            "Requirement already satisfied: MarkupSafe>=0.23 in /usr/local/lib/python3.7/dist-packages (from jinja2->torch-geometric) (2.0.1)\n",
            "Requirement already satisfied: python-dateutil>=2.7.3 in /usr/local/lib/python3.7/dist-packages (from pandas->torch-geometric) (2.8.2)\n",
            "Requirement already satisfied: pytz>=2017.2 in /usr/local/lib/python3.7/dist-packages (from pandas->torch-geometric) (2018.9)\n",
            "Requirement already satisfied: six>=1.5 in /usr/local/lib/python3.7/dist-packages (from python-dateutil>=2.7.3->pandas->torch-geometric) (1.15.0)\n",
            "Requirement already satisfied: isodate in /usr/local/lib/python3.7/dist-packages (from rdflib->torch-geometric) (0.6.0)\n",
            "Requirement already satisfied: setuptools in /usr/local/lib/python3.7/dist-packages (from rdflib->torch-geometric) (57.4.0)\n",
            "Requirement already satisfied: chardet<4,>=3.0.2 in /usr/local/lib/python3.7/dist-packages (from requests->torch-geometric) (3.0.4)\n",
            "Requirement already satisfied: urllib3!=1.25.0,!=1.25.1,<1.26,>=1.21.1 in /usr/local/lib/python3.7/dist-packages (from requests->torch-geometric) (1.24.3)\n",
            "Requirement already satisfied: certifi>=2017.4.17 in /usr/local/lib/python3.7/dist-packages (from requests->torch-geometric) (2021.10.8)\n",
            "Requirement already satisfied: idna<3,>=2.5 in /usr/local/lib/python3.7/dist-packages (from requests->torch-geometric) (2.10)\n",
            "Requirement already satisfied: threadpoolctl>=2.0.0 in /usr/local/lib/python3.7/dist-packages (from scikit-learn->torch-geometric) (3.0.0)\n",
            "Requirement already satisfied: joblib>=0.11 in /usr/local/lib/python3.7/dist-packages (from scikit-learn->torch-geometric) (1.1.0)\n"
          ]
        }
      ]
    },
    {
      "cell_type": "code",
      "metadata": {
        "id": "IFOUIiNEVTq6"
      },
      "source": [
        "# Load packages\n",
        "import torch\n",
        "import torch.nn as nn\n",
        "import torch.nn.functional as F\n",
        "from torch.nn import Linear, Sequential, ReLU, BatchNorm1d as BN\n",
        "import torch.optim as optim\n",
        "from torch_geometric.nn.conv import MessagePassing\n",
        "\n",
        "import numpy as np\n",
        "import sys\n",
        "\n",
        "from sklearn.model_selection import StratifiedKFold\n",
        "import sklearn.preprocessing as preprocessing\n",
        "from sklearn import metrics\n",
        "from sklearn.cluster import KMeans\n",
        "\n",
        "from scipy.sparse import linalg\n",
        "import scipy.sparse as sp"
      ],
      "execution_count": null,
      "outputs": []
    },
    {
      "cell_type": "markdown",
      "metadata": {
        "id": "WiGBYOrXMBxM"
      },
      "source": [
        "# **GNNs for Detecting Anomalous Users in Wikipedia with Decoupling Representation Learning and Classification**"
      ]
    },
    {
      "cell_type": "markdown",
      "metadata": {
        "id": "LnYvFlMNTKxV"
      },
      "source": [
        "# Introduction\n",
        "\n",
        "In this project, our goal is to detect anomalous users in Wikipedia using methods from the paper \"[Decoupling Representation Learning and Classification for GNN-based Anomaly Detection](https://xiaojingzi.github.io/publications/SIGIR21-Wang-et-al-decoupled-GNN.pdf)\". Most of the code and data are borrowed or adapted from the paper ([source](https://github.com/wyl7/DCI-pytorch)), though the GIN has been rewritten by us using the PyG framework because it was not originally in PyG - our implementation borrows heavily from [this GNN tutorial](https://github.com/sw-gong/GNN-Tutorial). One significant challenge in anomaly detection is the inconsistency between nodes' behavior patterns and label semantics. This paper seeks to alleviate the issue by decoupling the learning of nodes' embeddings from the learning of classifying their labels, rather than learning both in joint training.\n"
      ]
    },
    {
      "cell_type": "markdown",
      "metadata": {
        "id": "VFF01qXvUHGU"
      },
      "source": [
        "First, we load and pre-process the dataset (wiki.txt and wiki_label.txt, as found in the github linked above), a Wikipedia editor-page graph where nodes are users or Wiki pages, and edges denote the pages that a user has edited. The dataset contains public ground truth labels of banned users - the task is to identify these anomalous users.\n",
        "\n",
        "The code below loads wiki.txt, given as an adjacency matrix, prints some statistics about the graph and its labels, and splits the data for K fold validation. The initial features are loaded here, the next code block will describe the preprocessing done to create them."
      ]
    },
    {
      "cell_type": "code",
      "metadata": {
        "id": "bQdX-j6CUMWE"
      },
      "source": [
        "def load_data(datasets, num_folds):\n",
        "    # load the adjacency\n",
        "    adj = np.loadtxt('./wiki.txt')\n",
        "    num_user = len(set(adj[:, 0]))\n",
        "    num_object = len(set(adj[:, 1]))\n",
        "    adj = adj.astype('int')\n",
        "    nb_nodes = np.max(adj) + 1\n",
        "    edge_index = adj.T\n",
        "    print('Load the edge_index done!')\n",
        "    \n",
        "    # load the user label\n",
        "    label = np.loadtxt('./wiki_label.txt')\n",
        "    y = label[:, 1]\n",
        "    print('Ratio of fraudsters: ', np.sum(y) / len(y))\n",
        "    print('Number of edges: ', edge_index.shape[1])\n",
        "    print('Number of users: ', num_user)\n",
        "    print('Number of objects: ', num_object)\n",
        "    print('Number of nodes: ', nb_nodes)\n",
        "\n",
        "    # split the train_set and validation_set\n",
        "    split_idx = []\n",
        "    skf = StratifiedKFold(n_splits=num_folds, shuffle=True, random_state=0)\n",
        "    for (train_idx, test_idx) in skf.split(y, y):\n",
        "        split_idx.append((train_idx, test_idx))\n",
        "   \n",
        "    # load initial features\n",
        "    feats = np.load('./wiki_feature64.npy')\n",
        "\n",
        "    return edge_index, feats, split_idx, label, nb_nodes"
      ],
      "execution_count": null,
      "outputs": []
    },
    {
      "cell_type": "markdown",
      "metadata": {
        "id": "ulp_t31L8iS5"
      },
      "source": [
        "Then, for preprocessing, we perform the eigendecomposition and L2-normalize the adjacency matrix, such that \n",
        "$$D^{-1/2}AD^{-1/2} = UΛU^T,$$\n",
        "where D is the degree matrix. Since the original data set does not include side information, the eigenvectors roughly capture the users’ behavior and position similarities, since they preserve the adjacency information.\n",
        "\n",
        "\n",
        " "
      ]
    },
    {
      "cell_type": "code",
      "metadata": {
        "id": "9s3E7sX-auDM"
      },
      "source": [
        "np.random.seed(0)\n",
        "\n",
        "def eigen_decomposision(n, k, laplacian, hidden_size, retry):\n",
        "    laplacian = laplacian.astype(\"float64\")\n",
        "    ncv = min(n, max(2 * k + 1, 20))\n",
        "    v0 = np.random.rand(n).astype(\"float64\")\n",
        "    for i in range(retry):\n",
        "        try:\n",
        "            s, u = linalg.eigsh(laplacian, k=k, which=\"LA\", ncv=ncv, v0=v0)\n",
        "           \n",
        "        except sparse.linalg.eigen.arpack.ArpackError:\n",
        "            ncv = min(ncv * 2, n)\n",
        "            if i + 1 == retry:\n",
        "                sparse.save_npz(\"arpack_error_sparse_matrix.npz\", laplacian)\n",
        "                u = torch.zeros(n, k)\n",
        "        else:\n",
        "            break\n",
        "    x = preprocessing.normalize(u, norm=\"l2\")\n",
        "    x = x.astype(\"float64\")\n",
        "    return x\n",
        "\n",
        "def intial_embedding(n, adj, in_degree,hidden_size, retry=10):\n",
        "    in_degree = in_degree.clip(1) ** -0.5\n",
        "    norm = sp.diags(in_degree, 0, dtype=float)\n",
        "    laplacian = norm * adj * norm\n",
        "    k = min(n - 2, hidden_size)\n",
        "    x = eigen_decomposision(n, k, laplacian, hidden_size, retry)\n",
        "    \n",
        "    return x\n",
        "\n",
        "def process_adj(dataSetName):\n",
        "    edges = np.loadtxt(dataSetName).astype('int')\n",
        "    node_num = len(set(edges[:, 0])) + len(set(edges[:, 1]))\n",
        "\n",
        "    row = list(edges[:, 0].T) + list(edges[:, 1].T)\n",
        "    col = list(edges[:, 1].T) + list(edges[:, 0].T)\n",
        "    data = [1.0 for _ in range(len(row))]\n",
        "    adj = sp.csr_matrix((data, (row, col)), shape=(node_num, node_num))\n",
        "    return adj, node_num\n",
        "    \n",
        "adj, n = process_adj('./wiki.txt')\n",
        "hidden_size = 64\n",
        "in_degree = [np.sum(adj.data[adj.indptr[i]: adj.indptr[i+1]]) for i in range(n)]\n",
        "in_degree = np.array(in_degree)\n",
        "x = intial_embedding(n, adj, in_degree, hidden_size, retry=10)\n",
        "np.save('wiki_feature64.npy', x)"
      ],
      "execution_count": null,
      "outputs": []
    },
    {
      "cell_type": "markdown",
      "metadata": {
        "id": "qpBHUlNPJmST"
      },
      "source": [
        "Here we define some other related function. \n",
        "1. The **Discriminator** is a function that outputs the affinity scores. \n",
        "2. The **AvgReadout** is a average function that applies an average on seq, of shape (batch, nodes, features)\n",
        "\n",
        "These two concepts are introduced in [Deep Graph Infomax (Veličković et al, ICLR 2019)](https://arxiv.org/pdf/1809.10341.pdf) and the code are borrowed from its corresponding [repository](https://github.com/PetarV-/DGI).\n",
        "\n"
      ]
    },
    {
      "cell_type": "code",
      "metadata": {
        "id": "yBTXDvlOp-8R"
      },
      "source": [
        "class Discriminator(nn.Module):\n",
        "    def __init__(self, n_h):\n",
        "        super(Discriminator, self).__init__()\n",
        "        self.f_k = nn.Bilinear(n_h, n_h, 1)\n",
        "\n",
        "        for m in self.modules():\n",
        "            self.weights_init(m)\n",
        "\n",
        "    def weights_init(self, m):\n",
        "        if isinstance(m, nn.Bilinear):\n",
        "            torch.nn.init.xavier_uniform_(m.weight.data)\n",
        "            if m.bias is not None:\n",
        "                m.bias.data.fill_(0.0)\n",
        "\n",
        "    def forward(self, c, h_pl, h_mi, s_bias1=None, s_bias2=None):\n",
        "        c_x = torch.unsqueeze(c, 1)\n",
        "        c_x = c_x.expand_as(h_pl)\n",
        "\n",
        "        sc_1 = torch.squeeze(self.f_k(h_pl, c_x), 2)\n",
        "        sc_2 = torch.squeeze(self.f_k(h_mi, c_x), 2)\n",
        "\n",
        "        if s_bias1 is not None:\n",
        "            sc_1 += s_bias1\n",
        "        if s_bias2 is not None:\n",
        "            sc_2 += s_bias2\n",
        "\n",
        "        logits = torch.cat((sc_1, sc_2), 1)\n",
        "\n",
        "        return logits\n",
        "\n",
        "class AvgReadout(nn.Module):\n",
        "    def __init__(self):\n",
        "        super(AvgReadout, self).__init__()\n",
        "\n",
        "    def forward(self, seq, msk):\n",
        "        if msk is None:\n",
        "            return torch.mean(seq, 1)\n",
        "        else:\n",
        "            msk = torch.unsqueeze(msk, -1)\n",
        "            return torch.sum(seq * msk, 1) / torch.sum(msk)"
      ],
      "execution_count": null,
      "outputs": []
    },
    {
      "cell_type": "markdown",
      "metadata": {
        "id": "u5BaLLqkJ0mu"
      },
      "source": [
        "# GIN Implementation (PyG)\n",
        "We arrive at the PyG implementation of the GIN, or Graph Isomorphism Network. For each node $v$, its the $k^{th}$ layer of message processing process is formulated as \n",
        "\n",
        "$$\n",
        "h_{v}^{(k)}=\\operatorname{MLP}^{(k)}\\left(\\left(1+\\epsilon^{(k)}\\right) \\cdot h_{v}^{(k-1)}+\\sum_{u \\in \\mathcal{N}(v)} h_{u}^{(k-1)}\\right)\n",
        "$$\n",
        "\n",
        "Below is the message passing code for GINConv. Note the message and aggregation functions; the message passed is just the feature itself and the aggregation function here is sum ('add'), and the forward function calls propagate, as usual.\n"
      ]
    },
    {
      "cell_type": "code",
      "metadata": {
        "id": "FNjjEvj8SAiq"
      },
      "source": [
        "def reset(nn):\n",
        "    def _reset(item):\n",
        "        if hasattr(item, 'reset_parameters'):\n",
        "            item.reset_parameters()\n",
        "\n",
        "    if nn is not None:\n",
        "        if hasattr(nn, 'children') and len(list(nn.children())) > 0:\n",
        "            for item in nn.children():\n",
        "                _reset(item)\n",
        "        else:\n",
        "            _reset(nn)\n",
        "\n",
        "class GINConv(MessagePassing):\n",
        "    def __init__(self, nn, eps: float = 0., train_eps: bool = False,\n",
        "                 **kwargs):\n",
        "        kwargs.setdefault('aggr', 'add')\n",
        "        super().__init__(**kwargs)\n",
        "        self.nn = nn\n",
        "        self.initial_eps = eps\n",
        "        if train_eps:\n",
        "            self.eps = torch.nn.Parameter(torch.Tensor([eps]))\n",
        "        else:\n",
        "            self.register_buffer('eps', torch.Tensor([eps]))\n",
        "        self.reset_parameters()\n",
        "\n",
        "    def reset_parameters(self):\n",
        "        reset(self.nn)\n",
        "        self.eps.data.fill_(self.initial_eps)\n",
        "\n",
        "\n",
        "    def forward(self, x, edge_index) -> torch.Tensor:\n",
        "        if isinstance(x, torch.Tensor):\n",
        "            x: OptPairTensor = (x, x)\n",
        "\n",
        "        out = self.propagate(edge_index, x=x)\n",
        "\n",
        "        x_r = x[1]\n",
        "        if x_r is not None:\n",
        "            out += (1 + self.eps) * x_r\n",
        "\n",
        "        return self.nn(out)\n",
        "\n",
        "\n",
        "    def message(self, x_j: torch.Tensor) -> torch.Tensor:\n",
        "        return x_j\n",
        "\n",
        "    def message_and_aggregate(self, adj_t, x) -> torch.Tensor:\n",
        "        adj_t = adj_t.set_value(None, layout=None)\n",
        "        return matmul(adj_t, x[0], reduce=self.aggr)"
      ],
      "execution_count": null,
      "outputs": []
    },
    {
      "cell_type": "markdown",
      "metadata": {
        "id": "3ciyNXjKKzdr"
      },
      "source": [
        "The GIN itself is made up of layers of MLPs, which are linear layers followed by ReLU and batch normalization. GIN uses the GINConv message passing that we implemented above."
      ]
    },
    {
      "cell_type": "code",
      "metadata": {
        "id": "AOtvxBGBZPiF"
      },
      "source": [
        "class GIN(torch.nn.Module):\n",
        "    def __init__(self, num_layers, input_dim, hidden):\n",
        "        super(GIN, self).__init__()\n",
        "        self.conv1 = GINConv(Sequential(\n",
        "            Linear(input_dim, hidden),\n",
        "            ReLU(),\n",
        "            Linear(hidden, hidden),\n",
        "            ReLU(),\n",
        "            BN(hidden),\n",
        "        ),\n",
        "                             train_eps=True)\n",
        "        self.convs = torch.nn.ModuleList()\n",
        "        for i in range(num_layers - 1):\n",
        "            self.convs.append(\n",
        "                GINConv(Sequential(\n",
        "                    Linear(hidden, hidden),\n",
        "                    ReLU(),\n",
        "                    Linear(hidden, hidden),\n",
        "                    ReLU(),\n",
        "                    BN(hidden),\n",
        "                ),\n",
        "                        train_eps=True))\n",
        "\n",
        "    def reset_parameters(self):\n",
        "        self.conv1.reset_parameters()\n",
        "        for conv in self.convs:\n",
        "            conv.reset_parameters()\n",
        "\n",
        "    def forward(self, x, edge_index):\n",
        "        edge_index = edge_index._indices()\n",
        "        x = self.conv1(x, edge_index)\n",
        "        for conv in self.convs:\n",
        "            x = conv(x, edge_index)\n",
        "        return F.log_softmax(x, dim=-1)"
      ],
      "execution_count": null,
      "outputs": []
    },
    {
      "cell_type": "markdown",
      "metadata": {
        "id": "sPf50qgPM2L-"
      },
      "source": [
        "Below is the implementation of DGI as the self-supervised learning scheme. DGI learns the structural similarities of nodes in a global environment by contrasting the whole graph with the node in it. The discriminator outputs the affinity score of each local-global (i.e., node-graph) pair.\n"
      ]
    },
    {
      "cell_type": "markdown",
      "metadata": {
        "id": "ylaSbHaTLvwe"
      },
      "source": [
        "![dgi.png](data:image/png;base64,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)"
      ]
    },
    {
      "cell_type": "code",
      "metadata": {
        "id": "CEOQudnVqccj"
      },
      "source": [
        "class DGI(nn.Module):\n",
        "    def __init__(self, num_layers, input_dim, hidden_dim):\n",
        "        super(DGI, self).__init__()\n",
        "        self.gin = GIN(num_layers, input_dim, hidden_dim)\n",
        "        self.read = AvgReadout()\n",
        "        self.sigm = nn.Sigmoid()\n",
        "        self.disc = Discriminator(hidden_dim)\n",
        "\n",
        "    def forward(self, seq1, seq2, adj, msk, samp_bias1, samp_bias2, lbl):\n",
        "        criterion = nn.BCEWithLogitsLoss()\n",
        "        h_1 = torch.unsqueeze(self.gin(seq1, adj), 0)\n",
        "\n",
        "        c = self.read(h_1, msk)\n",
        "        c = self.sigm(c)\n",
        "\n",
        "        h_2 = torch.unsqueeze(self.gin(seq2, adj), 0)\n",
        "        \n",
        "        ret = self.disc(c, h_1, h_2, samp_bias1, samp_bias2)\n",
        "\n",
        "        loss = criterion(ret, lbl)\n",
        "\n",
        "        return loss"
      ],
      "execution_count": null,
      "outputs": []
    },
    {
      "cell_type": "markdown",
      "metadata": {
        "id": "fEfKJ9EKLi47"
      },
      "source": [
        "Below is the implementation of DCI as the self-supervised learning scheme. DCI can be viewed as a cluster-based DGI. For DCI, the graph is first partitioned into clusters, which account for neighborhood proximity. After clustering, the paper computes the cluster-level representation for each cluster to summarize how the majority in each cluster act, the discriminator outputs the affinity score of each local-semi-global (i.e., node-cluster) pair, and the final loss function is the average of the losses of the clusters."
      ]
    },
    {
      "cell_type": "markdown",
      "metadata": {
        "id": "mIjJUDg-LOn4"
      },
      "source": [
        "![dci.png](data:image/png;base64,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)"
      ]
    },
    {
      "cell_type": "code",
      "metadata": {
        "id": "nRyVHimZqXsy"
      },
      "source": [
        "class DCI(nn.Module):\n",
        "    def __init__(self, num_layers, input_dim, hidden_dim):\n",
        "        super(DCI, self).__init__()\n",
        "        self.gin = GIN(num_layers, input_dim, hidden_dim)\n",
        "        self.read = AvgReadout()\n",
        "        self.sigm = nn.Sigmoid()\n",
        "        self.disc = Discriminator(hidden_dim)\n",
        "\n",
        "    def forward(self, seq1, seq2, adj, msk, samp_bias1, samp_bias2, cluster_info, cluster_num):\n",
        "        h_1 = self.gin(seq1, adj)\n",
        "        h_2 = self.gin(seq2, adj)\n",
        "\n",
        "        loss = 0\n",
        "        batch_size = 1\n",
        "        criterion = nn.BCEWithLogitsLoss()\n",
        "        for i in range(cluster_num):\n",
        "            node_idx = cluster_info[i]\n",
        "\n",
        "            h_1_block = torch.unsqueeze(h_1[node_idx], 0)\n",
        "            c_block = self.read(h_1_block, msk)\n",
        "            c_block = self.sigm(c_block)\n",
        "            h_2_block = torch.unsqueeze(h_2[node_idx], 0)\n",
        "\n",
        "            lbl_1 = torch.ones(batch_size, len(node_idx))\n",
        "            lbl_2 = torch.zeros(batch_size, len(node_idx))\n",
        "            lbl = torch.cat((lbl_1, lbl_2), 1)\n",
        "\n",
        "            ret = self.disc(c_block, h_1_block, h_2_block, samp_bias1, samp_bias2)\n",
        "            loss_tmp = criterion(ret, lbl)\n",
        "            loss += loss_tmp\n",
        "\n",
        "        return loss / cluster_num\n",
        "    \n",
        "    def get_emb(self, seq1, adj):\n",
        "        h_1 = self.gin(seq1, adj)\n",
        "        return h_1"
      ],
      "execution_count": null,
      "outputs": []
    },
    {
      "cell_type": "markdown",
      "metadata": {
        "id": "tvvZKUk6MJ66"
      },
      "source": [
        "The classifier is simply a GIN with a linear prediction layer, we also use dropout."
      ]
    },
    {
      "cell_type": "code",
      "metadata": {
        "id": "o-wfoTV6pvgf"
      },
      "source": [
        "class Classifier(nn.Module):\n",
        "    def __init__(self, num_layers, input_dim, hidden_dim, final_dropout):\n",
        "        super(Classifier, self).__init__()\n",
        "        self.gin = GIN(num_layers, input_dim, hidden_dim)\n",
        "        self.linear_prediction = nn.Linear(hidden_dim, 1)\n",
        "        self.final_dropout = final_dropout\n",
        "        \n",
        "    def forward(self, seq1, adj):\n",
        "        h_1 = self.gin(seq1, adj)\n",
        "        score_final_layer = F.dropout(self.linear_prediction(h_1), \n",
        "                                      self.final_dropout, \n",
        "                                      training = self.training)\n",
        "        return score_final_layer"
      ],
      "execution_count": null,
      "outputs": []
    },
    {
      "cell_type": "markdown",
      "metadata": {
        "id": "nXSFK96_MR-F"
      },
      "source": [
        "# Other Helper Functions\n",
        "Below are some helper functions for use by the model."
      ]
    },
    {
      "cell_type": "code",
      "metadata": {
        "id": "VagOyGhA7Urf"
      },
      "source": [
        "sig = torch.nn.Sigmoid()\n",
        "\n",
        "def setup_seed(seed):\n",
        "    np.random.seed(seed)\n",
        "    torch.manual_seed(seed)\n",
        "    torch.cuda.manual_seed_all(seed)\n",
        "    torch.backends.cudnn.deterministic = True\n",
        "    torch.backends.cudnn.benchmark = True  \n",
        "\n",
        "def preprocess_neighbors_sumavepool(edge_index, nb_nodes, device):\n",
        "    adj_idx = edge_index\n",
        "        \n",
        "    adj_idx_2 = torch.cat([torch.unsqueeze(adj_idx[1], 0), torch.unsqueeze(adj_idx[0], 0)], 0)\n",
        "    adj_idx = torch.cat([adj_idx, adj_idx_2], 1)\n",
        "\n",
        "    self_loop_edge = torch.LongTensor([range(nb_nodes), range(nb_nodes)])\n",
        "    adj_idx = torch.cat([adj_idx, self_loop_edge], 1)\n",
        "        \n",
        "    adj_elem = torch.ones(adj_idx.shape[1])\n",
        "\n",
        "    adj = torch.sparse.FloatTensor(adj_idx, adj_elem, torch.Size([nb_nodes, nb_nodes]))\n",
        "\n",
        "    return adj.to(device)\n",
        "\n",
        "def evaluate(model, test_graph):\n",
        "    output = model(test_graph[0], test_graph[1])\n",
        "    pred = sig(output.detach().cpu())\n",
        "    test_idx = test_graph[3]\n",
        "    \n",
        "    labels = test_graph[-1]\n",
        "    pred = pred[labels[test_idx, 0].astype('int')].numpy()\n",
        "    target = labels[test_idx, 1]\n",
        "    \n",
        "    false_positive_rate, true_positive_rate, _ = metrics.roc_curve(target, pred, pos_label=1)\n",
        "    auc = metrics.auc(false_positive_rate, true_positive_rate)\n",
        "\n",
        "    return auc\n",
        "\n",
        "def finetune(model_pretrain, device, test_graph, feats_num):\n",
        "    # initialize the joint model\n",
        "    model = Classifier(N_LAYERS, feats_num, HIDDEN_DIM, DROPOUT).to(device)\n",
        "    \n",
        "    # replace the encoder in joint model with the pre-trained encoder\n",
        "    pretrained_dict = model_pretrain.state_dict()\n",
        "    model_dict = model.state_dict()\n",
        "    pretrained_dict =  {k: v for k, v in pretrained_dict.items() if k in model_dict}\n",
        "    model_dict.update(pretrained_dict)\n",
        "    model.load_state_dict(model_dict)\n",
        "\n",
        "    optimizer = optim.Adam(model.parameters(), lr=LR)\n",
        "    \n",
        "    criterion_tune = nn.BCEWithLogitsLoss()\n",
        "\n",
        "    res = []\n",
        "    train_idx = test_graph[2]\n",
        "    node_train = test_graph[-1][train_idx, 0].astype('int')\n",
        "    label_train = torch.FloatTensor(test_graph[-1][train_idx, 1]).to(device)\n",
        "    for _ in range(1, FINETUNE_EPOCHS+1):\n",
        "        model.train()\n",
        "        output = model(test_graph[0], test_graph[1])\n",
        "        loss = criterion_tune(output[node_train], torch.reshape(label_train, (-1, 1)))\n",
        "        \n",
        "        #backprop\n",
        "        if optimizer is not None:\n",
        "            optimizer.zero_grad()\n",
        "            loss.backward()\n",
        "            optimizer.step()\n",
        "        \n",
        "        # testing\n",
        "        model.eval()\n",
        "        auc = evaluate(model, test_graph)\n",
        "        res.append(auc)\n",
        "\n",
        "    return np.max(res)"
      ],
      "execution_count": null,
      "outputs": []
    },
    {
      "cell_type": "markdown",
      "metadata": {
        "id": "_M5QtENoMTLn"
      },
      "source": [
        "# Model Training and Testing\n",
        "Below is the main code and results we attained running DCI with the decoupled method/pretraining and with joint training."
      ]
    },
    {
      "cell_type": "code",
      "metadata": {
        "id": "M_JjoPVkwswc"
      },
      "source": [
        "def main_dci(training_scheme):\n",
        "    setup_seed(0)\n",
        "    \n",
        "    device = torch.device(\"cuda:0\") if torch.cuda.is_available() else torch.device(\"cpu\")\n",
        "\n",
        "    # data loading\n",
        "    edge_index, feats, split_idx, label, nb_nodes = load_data(\"wiki\", N_FOLDS)\n",
        "    input_dim = feats.shape[1]\n",
        "    # pre-clustering and store userID in each clusters\n",
        "    kmeans = KMeans(n_clusters=N_CLUSTERS, random_state=0).fit(feats)\n",
        "    ss_label = kmeans.labels_\n",
        "    cluster_info = [list(np.where(ss_label==i)[0]) for i in range(N_CLUSTERS)]\n",
        "    # the shuffled features are used to contruct the negative sample-pairs\n",
        "    idx = np.random.permutation(nb_nodes)\n",
        "    shuf_feats = feats[idx, :]\n",
        "\n",
        "    adj = preprocess_neighbors_sumavepool(torch.LongTensor(edge_index), nb_nodes, device)\n",
        "    feats = torch.FloatTensor(feats).to(device)\n",
        "    shuf_feats = torch.FloatTensor(shuf_feats).to(device)\n",
        "\n",
        "    # pre-training process\n",
        "    model_pretrain = DCI(N_LAYERS, input_dim, HIDDEN_DIM).to(device)\n",
        "    if training_scheme == 'decoupled':\n",
        "        optimizer_train = optim.Adam(model_pretrain.parameters(), lr=LR)\n",
        "        for epoch in range(1, EPOCHS + 1):\n",
        "            model_pretrain.train()\n",
        "            loss_pretrain = model_pretrain(feats, shuf_feats, adj, None, None, None, cluster_info, N_CLUSTERS)\n",
        "            if optimizer_train is not None:\n",
        "                optimizer_train.zero_grad()\n",
        "                loss_pretrain.backward()         \n",
        "                optimizer_train.step()\n",
        "            # re-clustering\n",
        "            if epoch % RECLUSTER_INTERVAL == 0 and epoch < EPOCHS:\n",
        "                model_pretrain.eval()\n",
        "                emb = model_pretrain.get_emb(feats, adj)\n",
        "                kmeans = KMeans(n_clusters=N_CLUSTERS, random_state=0).fit(emb.detach().cpu().numpy())\n",
        "                ss_label = kmeans.labels_\n",
        "                cluster_info = [list(np.where(ss_label==i)[0]) for i in range(N_CLUSTERS)]\n",
        "        \n",
        "        print('Pre-training done!')\n",
        "            \n",
        "    #fine-tuning process\n",
        "    fold_idx = 1\n",
        "    every_fold_auc = []\n",
        "    for (train_idx, test_idx) in split_idx:\n",
        "        test_graph = (feats, adj, train_idx, test_idx, label)\n",
        "        tmp_auc = finetune(model_pretrain, device, test_graph, input_dim)\n",
        "        every_fold_auc.append(tmp_auc)\n",
        "        print('AUC on the Fold'+str(fold_idx)+': ', tmp_auc)\n",
        "        fold_idx += 1\n",
        "    print('The averaged AUC score: ', np.mean(every_fold_auc))"
      ],
      "execution_count": null,
      "outputs": []
    },
    {
      "cell_type": "code",
      "metadata": {
        "id": "y9RH6CiYarx5"
      },
      "source": [
        "# constants\n",
        "EPOCHS = 50\n",
        "N_LAYERS = 2\n",
        "HIDDEN_DIM = 128\n",
        "FINETUNE_EPOCHS = 100\n",
        "N_FOLDS = 10\n",
        "LR = 0.01\n",
        "N_CLUSTERS = 2\n",
        "RECLUSTER_INTERVAL = 20\n",
        "DROPOUT = 0.5"
      ],
      "execution_count": null,
      "outputs": []
    },
    {
      "cell_type": "code",
      "metadata": {
        "colab": {
          "base_uri": "https://localhost:8080/"
        },
        "id": "DIKQn7MTxI_d",
        "outputId": "91388f82-b5bc-4be0-a688-c75fb243176b"
      },
      "source": [
        "main_dci('decoupled')"
      ],
      "execution_count": null,
      "outputs": [
        {
          "output_type": "stream",
          "name": "stdout",
          "text": [
            "Load the edge_index done!\n",
            "Ratio of fraudsters:  0.026376564969004496\n",
            "Number of edges:  18257\n",
            "Number of users:  8227\n",
            "Number of objects:  1000\n",
            "Number of nodes:  9227\n",
            "Pre-training done!\n",
            "AUC on the Fold1:  0.6411587787992282\n",
            "AUC on the Fold2:  0.6983316309159006\n",
            "AUC on the Fold3:  0.6708659630007944\n",
            "AUC on the Fold4:  0.6910963568266939\n",
            "AUC on the Fold5:  0.6651061173533083\n",
            "AUC on the Fold6:  0.7769833163091591\n",
            "AUC on the Fold7:  0.732748836681421\n",
            "AUC on the Fold8:  0.6703525355210749\n",
            "AUC on the Fold9:  0.6080197372332203\n",
            "AUC on the Fold10:  0.6437191605730931\n",
            "The averaged AUC score:  0.6798382433213895\n"
          ]
        }
      ]
    },
    {
      "cell_type": "code",
      "metadata": {
        "colab": {
          "base_uri": "https://localhost:8080/"
        },
        "id": "5nWqOLmIbMdB",
        "outputId": "821f9c5f-bc99-464d-8739-39a956065b56"
      },
      "source": [
        "main_dci('joint')"
      ],
      "execution_count": null,
      "outputs": [
        {
          "output_type": "stream",
          "name": "stdout",
          "text": [
            "Load the edge_index done!\n",
            "Ratio of fraudsters:  0.026376564969004496\n",
            "Number of edges:  18257\n",
            "Number of users:  8227\n",
            "Number of objects:  1000\n",
            "Number of nodes:  9227\n",
            "AUC on the Fold1:  0.7011406196799456\n",
            "AUC on the Fold2:  0.7355010781977074\n",
            "AUC on the Fold3:  0.6959482465100443\n",
            "AUC on the Fold4:  0.7193564862104187\n",
            "AUC on the Fold5:  0.6726818749290658\n",
            "AUC on the Fold6:  0.7123482011122461\n",
            "AUC on the Fold7:  0.7307626830098741\n",
            "AUC on the Fold8:  0.6488318173711431\n",
            "AUC on the Fold9:  0.6106949646275489\n",
            "AUC on the Fold10:  0.7045954461684799\n",
            "The averaged AUC score:  0.6931861417816474\n"
          ]
        }
      ]
    },
    {
      "cell_type": "markdown",
      "metadata": {
        "id": "KBuSOerWMU8M"
      },
      "source": [
        "Below is the main code and results we attained running DGI with the decoupled method/pretraining."
      ]
    },
    {
      "cell_type": "code",
      "metadata": {
        "id": "kEupCHyd1WSo"
      },
      "source": [
        "def main_dgi():\n",
        "    setup_seed(0)\n",
        "    \n",
        "    device = torch.device(\"cuda:0\") if torch.cuda.is_available() else torch.device(\"cpu\")\n",
        "    # Data loading\n",
        "    edge_index, feats, split_idx, label, nb_nodes = load_data(\"wiki\", N_FOLDS)\n",
        "    input_dim = feats.shape[1]\n",
        "    # the shuffled features are used to contruct the negative samples\n",
        "    idx = np.random.permutation(nb_nodes)\n",
        "    shuf_feats = feats[idx, :]\n",
        "\n",
        "    model_pretrain = DGI(N_LAYERS, input_dim, HIDDEN_DIM).to(device)\n",
        "    optimizer_train = optim.Adam(model_pretrain.parameters(), lr=LR)\n",
        "\n",
        "    batch_size = 1\n",
        "    lbl_1 = torch.ones(batch_size, nb_nodes)\n",
        "    lbl_2 = torch.zeros(batch_size, nb_nodes)\n",
        "    lbl = torch.cat((lbl_1, lbl_2), 1).to(device)\n",
        "\n",
        "    adj = preprocess_neighbors_sumavepool(torch.LongTensor(edge_index), nb_nodes, device)\n",
        "    feats = torch.FloatTensor(feats).to(device)\n",
        "    shuf_feats = torch.FloatTensor(shuf_feats).to(device)\n",
        "    \n",
        "    # pre-training\n",
        "    model_pretrain.train()\n",
        "    for _ in range(1, EPOCHS + 1):\n",
        "        loss_pretrain = model_pretrain(feats, shuf_feats, adj, None, None, None, lbl)\n",
        "        if optimizer_train is not None:\n",
        "            optimizer_train.zero_grad()\n",
        "            loss_pretrain.backward()         \n",
        "            optimizer_train.step()\n",
        "    \n",
        "    print('Pre-training done!')\n",
        "\n",
        "    #fine-tuning process\n",
        "    fold_idx = 1\n",
        "    every_fold_auc = []\n",
        "    for (train_idx, test_idx) in split_idx:\n",
        "        test_graph = (feats, adj, train_idx, test_idx, label)\n",
        "        tmp_auc = finetune(model_pretrain, device, test_graph, input_dim)\n",
        "        every_fold_auc.append(tmp_auc)\n",
        "        print('AUC on the Fold'+str(fold_idx)+': ', tmp_auc)\n",
        "        fold_idx += 1\n",
        "    \n",
        "    print('The averaged AUC score: ', np.mean(every_fold_auc))"
      ],
      "execution_count": null,
      "outputs": []
    },
    {
      "cell_type": "code",
      "metadata": {
        "colab": {
          "base_uri": "https://localhost:8080/"
        },
        "id": "6lvHmlgd2USV",
        "outputId": "1fcf9193-707b-40b6-b6b9-2670b2b2424b"
      },
      "source": [
        "main_dgi()"
      ],
      "execution_count": null,
      "outputs": [
        {
          "output_type": "stream",
          "name": "stdout",
          "text": [
            "Load the edge_index done!\n",
            "Ratio of fraudsters:  0.026376564969004496\n",
            "Number of edges:  18257\n",
            "Number of users:  8227\n",
            "Number of objects:  1000\n",
            "Number of nodes:  9227\n",
            "Pre-training done!\n",
            "AUC on the Fold1:  0.6684542049710589\n",
            "AUC on the Fold2:  0.7100783112019067\n",
            "AUC on the Fold3:  0.6609351946430599\n",
            "AUC on the Fold4:  0.6900181591192827\n",
            "AUC on the Fold5:  0.6436272840767223\n",
            "AUC on the Fold6:  0.7140506185450005\n",
            "AUC on the Fold7:  0.7531210986267167\n",
            "AUC on the Fold8:  0.607633315498484\n",
            "AUC on the Fold9:  0.5892931454729208\n",
            "AUC on the Fold10:  0.6940134355864693\n",
            "The averaged AUC score:  0.6731224767741621\n"
          ]
        }
      ]
    },
    {
      "cell_type": "code",
      "metadata": {
        "id": "O4fl7g6qYfqk"
      },
      "source": [
        ""
      ],
      "execution_count": null,
      "outputs": []
    }
  ]
}